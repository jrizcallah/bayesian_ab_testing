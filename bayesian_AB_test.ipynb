{
  "nbformat": 4,
  "nbformat_minor": 0,
  "metadata": {
    "colab": {
      "name": "bayesian_AB_test.ipynb",
      "provenance": [],
      "toc_visible": true
    },
    "kernelspec": {
      "name": "python3",
      "display_name": "Python 3"
    },
    "language_info": {
      "name": "python"
    }
  },
  "cells": [
    {
      "cell_type": "code",
      "metadata": {
        "id": "F0R7Fryza3nO"
      },
      "source": [
        "import pymc3 as pm\n",
        "import numpy as np\n",
        "from scipy.stats import ttest_ind"
      ],
      "execution_count": 1,
      "outputs": []
    },
    {
      "cell_type": "code",
      "metadata": {
        "id": "OSnVTu5Ua8sj"
      },
      "source": [
        "np.random.seed(0)\n",
        "conversions1 = np.random.binomial(1, 0.01, size=5400)\n",
        "conversions2 = np.random.binomial(1, 0.012, size=4600)"
      ],
      "execution_count": 13,
      "outputs": []
    },
    {
      "cell_type": "code",
      "metadata": {
        "colab": {
          "base_uri": "https://localhost:8080/"
        },
        "id": "ENwpdWImbUxa",
        "outputId": "7e91e2bc-79f2-4a06-b5c1-39ad16a2ae2b"
      },
      "source": [
        "# observed conversion rates\n",
        "print(f'Conversion Rate 1: {conversions1.mean():.1%}')\n",
        "print(f'Conversion Rate 2: {conversions2.mean():.1%}')"
      ],
      "execution_count": 14,
      "outputs": [
        {
          "output_type": "stream",
          "text": [
            "Conversion Rate 1: 0.9%\n",
            "Conversion Rate 2: 1.1%\n"
          ],
          "name": "stdout"
        }
      ]
    },
    {
      "cell_type": "code",
      "metadata": {
        "colab": {
          "base_uri": "https://localhost:8080/"
        },
        "id": "xFt7glwxbady",
        "outputId": "7fe3b3d3-38a5-4fda-db7b-d53f9fda8f39"
      },
      "source": [
        "print(f'P-Value: {ttest_ind(conversions1, conversions2, equal_var=False, alternative=\"less\").pvalue:.1%}')"
      ],
      "execution_count": 15,
      "outputs": [
        {
          "output_type": "stream",
          "text": [
            "P-Value: 11.5%\n"
          ],
          "name": "stdout"
        }
      ]
    },
    {
      "cell_type": "code",
      "metadata": {
        "colab": {
          "base_uri": "https://localhost:8080/",
          "height": 138
        },
        "id": "oqudFqFjchQb",
        "outputId": "a927f661-13be-4318-cc41-25e825814f30"
      },
      "source": [
        "# Bayesian method\n",
        "with pm.Model():\n",
        "  # priors\n",
        "  rate1 = pm.Beta('rate1', 1, 99)\n",
        "  rate2 = pm.Beta('rate2', 1, 99)\n",
        "\n",
        "  # model\n",
        "  obs1 = pm.Bernoulli('obs1', rate1, observed=conversions1)\n",
        "  obs2 = pm.Bernoulli('obs2', rate2, observed=conversions2)\n",
        "\n",
        "  # sample\n",
        "  trace = pm.sample(return_inferencedata=True)"
      ],
      "execution_count": 16,
      "outputs": [
        {
          "output_type": "stream",
          "text": [
            "Auto-assigning NUTS sampler...\n",
            "Initializing NUTS using jitter+adapt_diag...\n",
            "Sequential sampling (2 chains in 1 job)\n",
            "NUTS: [rate2, rate1]\n"
          ],
          "name": "stderr"
        },
        {
          "output_type": "display_data",
          "data": {
            "text/html": [
              "\n",
              "    <div>\n",
              "        <style>\n",
              "            /* Turns off some styling */\n",
              "            progress {\n",
              "                /* gets rid of default border in Firefox and Opera. */\n",
              "                border: none;\n",
              "                /* Needs to be in here for Safari polyfill so background images work as expected. */\n",
              "                background-size: auto;\n",
              "            }\n",
              "            .progress-bar-interrupted, .progress-bar-interrupted::-webkit-progress-bar {\n",
              "                background: #F44336;\n",
              "            }\n",
              "        </style>\n",
              "      <progress value='2000' class='' max='2000' style='width:300px; height:20px; vertical-align: middle;'></progress>\n",
              "      100.00% [2000/2000 00:02<00:00 Sampling chain 0, 0 divergences]\n",
              "    </div>\n",
              "    "
            ],
            "text/plain": [
              "<IPython.core.display.HTML object>"
            ]
          },
          "metadata": {
            "tags": []
          }
        },
        {
          "output_type": "display_data",
          "data": {
            "text/html": [
              "\n",
              "    <div>\n",
              "        <style>\n",
              "            /* Turns off some styling */\n",
              "            progress {\n",
              "                /* gets rid of default border in Firefox and Opera. */\n",
              "                border: none;\n",
              "                /* Needs to be in here for Safari polyfill so background images work as expected. */\n",
              "                background-size: auto;\n",
              "            }\n",
              "            .progress-bar-interrupted, .progress-bar-interrupted::-webkit-progress-bar {\n",
              "                background: #F44336;\n",
              "            }\n",
              "        </style>\n",
              "      <progress value='2000' class='' max='2000' style='width:300px; height:20px; vertical-align: middle;'></progress>\n",
              "      100.00% [2000/2000 00:02<00:00 Sampling chain 1, 0 divergences]\n",
              "    </div>\n",
              "    "
            ],
            "text/plain": [
              "<IPython.core.display.HTML object>"
            ]
          },
          "metadata": {
            "tags": []
          }
        },
        {
          "output_type": "stream",
          "text": [
            "Sampling 2 chains for 1_000 tune and 1_000 draw iterations (2_000 + 2_000 draws total) took 5 seconds.\n"
          ],
          "name": "stderr"
        }
      ]
    },
    {
      "cell_type": "code",
      "metadata": {
        "colab": {
          "base_uri": "https://localhost:8080/",
          "height": 356
        },
        "id": "BNf3a5MBdDSQ",
        "outputId": "fcfffe4d-be3f-4c5a-b28b-edaec86b00c0"
      },
      "source": [
        "import arviz as az\n",
        "\n",
        "az.plot_posterior(trace);"
      ],
      "execution_count": 19,
      "outputs": [
        {
          "output_type": "display_data",
          "data": {
            "image/png": "[encoded data removed]",
            "text/plain": [
              "<Figure size 993.6x331.2 with 2 Axes>"
            ]
          },
          "metadata": {
            "tags": [],
            "needs_background": "light"
          }
        }
      ]
    },
    {
      "cell_type": "code",
      "metadata": {
        "colab": {
          "base_uri": "https://localhost:8080/"
        },
        "id": "CoxEtXFhdXJ4",
        "outputId": "3c06159e-4e44-435b-b95c-d29c9dad25c3"
      },
      "source": [
        "conversion1_samples = trace.posterior['rate1'].values\n",
        "conversion2_samples = trace.posterior['rate2'].values\n",
        "\n",
        "print(f'Probability that 2 is better than 1: {(conversion2_samples > conversion1_samples).mean():.1%}')"
      ],
      "execution_count": 20,
      "outputs": [
        {
          "output_type": "stream",
          "text": [
            "Probability that 2 is better than 1: 88.1%\n"
          ],
          "name": "stdout"
        }
      ]
    },
    {
      "cell_type": "markdown",
      "metadata": {
        "id": "WyyflFqueVi7"
      },
      "source": [
        "# Real data time"
      ]
    },
    {
      "cell_type": "code",
      "metadata": {
        "id": "vodwtpS9d_bK"
      },
      "source": [
        "import pandas as pd"
      ],
      "execution_count": 21,
      "outputs": []
    },
    {
      "cell_type": "code",
      "metadata": {
        "id": "fPfivESAgcP-"
      },
      "source": [
        "data = pd.read_csv('Training_set_advance.csv')"
      ],
      "execution_count": 26,
      "outputs": []
    },
    {
      "cell_type": "code",
      "metadata": {
        "colab": {
          "base_uri": "https://localhost:8080/",
          "height": 191
        },
        "id": "uP4M4JSCgeO5",
        "outputId": "321aa16c-8731-4904-969d-0f57fc759ccc"
      },
      "source": [
        "# pretend everything else is randomized enough. We only want to test survival of urban vs. rural patients\n",
        "use_data = data[['Patient_Rural_Urban', 'Survived_1_year']].copy()\n",
        "use_data['urban'] = 0\n",
        "use_data.loc[use_data['Patient_Rural_Urban']=='URBAN', 'urban'] = 1\n",
        "use_data.head()"
      ],
      "execution_count": 32,
      "outputs": [
        {
          "output_type": "execute_result",
          "data": {
            "text/html": [
              "<div>\n",
              "<style scoped>\n",
              "    .dataframe tbody tr th:only-of-type {\n",
              "        vertical-align: middle;\n",
              "    }\n",
              "\n",
              "    .dataframe tbody tr th {\n",
              "        vertical-align: top;\n",
              "    }\n",
              "\n",
              "    .dataframe thead th {\n",
              "        text-align: right;\n",
              "    }\n",
              "</style>\n",
              "<table border=\"1\" class=\"dataframe\">\n",
              "  <thead>\n",
              "    <tr style=\"text-align: right;\">\n",
              "      <th></th>\n",
              "      <th>Patient_Rural_Urban</th>\n",
              "      <th>Survived_1_year</th>\n",
              "      <th>urban</th>\n",
              "    </tr>\n",
              "  </thead>\n",
              "  <tbody>\n",
              "    <tr>\n",
              "      <th>0</th>\n",
              "      <td>URBAN</td>\n",
              "      <td>1</td>\n",
              "      <td>1</td>\n",
              "    </tr>\n",
              "    <tr>\n",
              "      <th>1</th>\n",
              "      <td>RURAL</td>\n",
              "      <td>0</td>\n",
              "      <td>0</td>\n",
              "    </tr>\n",
              "    <tr>\n",
              "      <th>2</th>\n",
              "      <td>RURAL</td>\n",
              "      <td>1</td>\n",
              "      <td>0</td>\n",
              "    </tr>\n",
              "    <tr>\n",
              "      <th>3</th>\n",
              "      <td>RURAL</td>\n",
              "      <td>0</td>\n",
              "      <td>0</td>\n",
              "    </tr>\n",
              "    <tr>\n",
              "      <th>4</th>\n",
              "      <td>RURAL</td>\n",
              "      <td>1</td>\n",
              "      <td>0</td>\n",
              "    </tr>\n",
              "  </tbody>\n",
              "</table>\n",
              "</div>"
            ],
            "text/plain": [
              "  Patient_Rural_Urban  Survived_1_year  urban\n",
              "0               URBAN                1      1\n",
              "1               RURAL                0      0\n",
              "2               RURAL                1      0\n",
              "3               RURAL                0      0\n",
              "4               RURAL                1      0"
            ]
          },
          "metadata": {
            "tags": []
          },
          "execution_count": 32
        }
      ]
    },
    {
      "cell_type": "code",
      "metadata": {
        "id": "GhERprnKhwRj"
      },
      "source": [
        "urban = use_data.loc[use_data['urban'] == 1, 'Survived_1_year'].values\n",
        "rural = use_data.loc[use_data['urban'] == 0, 'Survived_1_year'].values"
      ],
      "execution_count": 34,
      "outputs": []
    },
    {
      "cell_type": "code",
      "metadata": {
        "colab": {
          "base_uri": "https://localhost:8080/"
        },
        "id": "3Z5A7vSsihDM",
        "outputId": "82ac0751-e9fc-43d7-b046-7bcee91fd6c1"
      },
      "source": [
        "# mean values\n",
        "print(f'Urban Survival Rate: {np.mean(urban):.1%}')\n",
        "print(f'Rural Survival Rate: {np.mean(rural):.1%}')"
      ],
      "execution_count": 36,
      "outputs": [
        {
          "output_type": "stream",
          "text": [
            "Urban Survival Rate: 54.7%\n",
            "Rural Survival Rate: 67.2%\n"
          ],
          "name": "stdout"
        }
      ]
    },
    {
      "cell_type": "code",
      "metadata": {
        "colab": {
          "base_uri": "https://localhost:8080/"
        },
        "id": "Fvb8RX7VixVj",
        "outputId": "afdd1bb7-bce3-4680-d20a-39043cd798d0"
      },
      "source": [
        "# traditional method\n",
        "print(f'P-Value: {ttest_ind(urban, rural, equal_var=False).pvalue:.5%}')"
      ],
      "execution_count": 40,
      "outputs": [
        {
          "output_type": "stream",
          "text": [
            "P-Value: 0.00000%\n"
          ],
          "name": "stdout"
        }
      ]
    },
    {
      "cell_type": "code",
      "metadata": {
        "colab": {
          "base_uri": "https://localhost:8080/",
          "height": 138
        },
        "id": "kDG4zNIki-Mg",
        "outputId": "ef6dd263-664f-4ae7-fc57-80c3248945e1"
      },
      "source": [
        "# Bayesian method\n",
        "with pm.Model():\n",
        "  # prior\n",
        "  urban_rate = pm.Beta('urban_rate', 5, 5)\n",
        "  rural_rate = pm.Beta('rural_rate', 5, 5)\n",
        "\n",
        "  # model\n",
        "  urban_obs = pm.Bernoulli('urban_obs', urban_rate, observed=urban)\n",
        "  rural_obs = pm.Bernoulli('rural_obs', rural_rate, observed=rural)\n",
        "\n",
        "  # sample\n",
        "  trace = pm.sample(return_inferencedata=True)"
      ],
      "execution_count": 41,
      "outputs": [
        {
          "output_type": "stream",
          "text": [
            "Auto-assigning NUTS sampler...\n",
            "Initializing NUTS using jitter+adapt_diag...\n",
            "Sequential sampling (2 chains in 1 job)\n",
            "NUTS: [rural_rate, urban_rate]\n"
          ],
          "name": "stderr"
        },
        {
          "output_type": "display_data",
          "data": {
            "text/html": [
              "\n",
              "    <div>\n",
              "        <style>\n",
              "            /* Turns off some styling */\n",
              "            progress {\n",
              "                /* gets rid of default border in Firefox and Opera. */\n",
              "                border: none;\n",
              "                /* Needs to be in here for Safari polyfill so background images work as expected. */\n",
              "                background-size: auto;\n",
              "            }\n",
              "            .progress-bar-interrupted, .progress-bar-interrupted::-webkit-progress-bar {\n",
              "                background: #F44336;\n",
              "            }\n",
              "        </style>\n",
              "      <progress value='2000' class='' max='2000' style='width:300px; height:20px; vertical-align: middle;'></progress>\n",
              "      100.00% [2000/2000 00:06<00:00 Sampling chain 0, 0 divergences]\n",
              "    </div>\n",
              "    "
            ],
            "text/plain": [
              "<IPython.core.display.HTML object>"
            ]
          },
          "metadata": {
            "tags": []
          }
        },
        {
          "output_type": "display_data",
          "data": {
            "text/html": [
              "\n",
              "    <div>\n",
              "        <style>\n",
              "            /* Turns off some styling */\n",
              "            progress {\n",
              "                /* gets rid of default border in Firefox and Opera. */\n",
              "                border: none;\n",
              "                /* Needs to be in here for Safari polyfill so background images work as expected. */\n",
              "                background-size: auto;\n",
              "            }\n",
              "            .progress-bar-interrupted, .progress-bar-interrupted::-webkit-progress-bar {\n",
              "                background: #F44336;\n",
              "            }\n",
              "        </style>\n",
              "      <progress value='2000' class='' max='2000' style='width:300px; height:20px; vertical-align: middle;'></progress>\n",
              "      100.00% [2000/2000 00:06<00:00 Sampling chain 1, 0 divergences]\n",
              "    </div>\n",
              "    "
            ],
            "text/plain": [
              "<IPython.core.display.HTML object>"
            ]
          },
          "metadata": {
            "tags": []
          }
        },
        {
          "output_type": "stream",
          "text": [
            "Sampling 2 chains for 1_000 tune and 1_000 draw iterations (2_000 + 2_000 draws total) took 12 seconds.\n"
          ],
          "name": "stderr"
        }
      ]
    },
    {
      "cell_type": "code",
      "metadata": {
        "colab": {
          "base_uri": "https://localhost:8080/",
          "height": 356
        },
        "id": "mHeDK7Yujw2K",
        "outputId": "6d3578e0-9da4-441e-a4cd-d67904fd350e"
      },
      "source": [
        "az.plot_posterior(trace);"
      ],
      "execution_count": 42,
      "outputs": [
        {
          "output_type": "display_data",
          "data": {
            "image/png": "[encoded data removed]",
            "text/plain": [
              "<Figure size 993.6x331.2 with 2 Axes>"
            ]
          },
          "metadata": {
            "tags": [],
            "needs_background": "light"
          }
        }
      ]
    },
    {
      "cell_type": "code",
      "metadata": {
        "colab": {
          "base_uri": "https://localhost:8080/"
        },
        "id": "ocVtXGq3j5aa",
        "outputId": "0c6e1017-36c2-4033-f2e5-936008f339e0"
      },
      "source": [
        "urban_samples = trace.posterior['urban_rate'].values\n",
        "rural_samples = trace.posterior['rural_rate'].values\n",
        "\n",
        "print(f'Probability that Rural Patients survive at a higher rate than Urban Patients: {(rural_samples > urban_samples).mean():.5%}')"
      ],
      "execution_count": 45,
      "outputs": [
        {
          "output_type": "stream",
          "text": [
            "Probability that Rural Patients survive at a higher rate than Urban Patients: 100.00000%\n"
          ],
          "name": "stdout"
        }
      ]
    },
    {
      "cell_type": "code",
      "metadata": {
        "id": "GIfbioSmkC3c"
      },
      "source": [
        ""
      ],
      "execution_count": null,
      "outputs": []
    }
  ]
}